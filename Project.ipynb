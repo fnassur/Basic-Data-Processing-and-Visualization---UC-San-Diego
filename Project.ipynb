{
 "cells": [
  {
   "cell_type": "markdown",
   "metadata": {},
   "source": [
    "# Week 5: Class Project\n",
    "This notebook uses concepts taught in previous weeks that include - reading datasets, pre-processing, cleaning and data visualiztion. The data set has been acquired from Kaggle (https://www.kaggle.com/mirichoi0218/insurance/data#). It consists of the following information:\n",
    "- age: age of primary beneficiary\n",
    "\n",
    "- sex: insurance contractor gender, female, male\n",
    "\n",
    "- bmi: Body mass index, providing an understanding of body, weights that are relatively high or low relative to height,\n",
    "objective index of body weight (kg / m ^ 2) using the ratio of height to weight, ideally 18.5 to 24.9\n",
    "\n",
    "- children: Number of children covered by health insurance / Number of dependents\n",
    "\n",
    "- smoker: Smoking\n",
    "\n",
    "- region: the beneficiary's residential area in the US, northeast, southeast, southwest, northwest.\n",
    "\n",
    "- charges: Individual medical costs billed by health insurance\n",
    "\n",
    "The goal of this notebook is to identify correations between these variables and visualize them.\n",
    "\n",
    "Source: https://www.kaggle.com/mirichoi0218/insurance/data#\n",
    "\n",
    "### Breif understanding of Health insurance charges\n",
    "\n",
    "Like all insurance policies, health insurance is a contract or agreement between you and the insurance company you select. You buy a plan (you can choose from many different types), and the company agrees to pay all or part of your medical costs when you get sick or hurt. As you can imagine, the better or more expensive the plan, the less you will pay when you get sick. Each of the new plans covers all of the Essential Health Benefits and once you reach the annual out of pocket maximum all medical and prescription expenses are covered 100% for the rest of the year. The maximum out of pocket is key indicator you should look at when comparing policies.\n",
    "\n",
    "In general there are 5 factors that affect the cost of your health insurance plan:\n",
    "- Your age\n",
    "- Your location\n",
    "- Who is covered in the plan\n",
    "- If you smoke or use tobacco\n",
    "- The type of plan you choose\n",
    "\n",
    "Source: http://thebenefitbrokers.com/Health_Insurance_101/, https://www.moneycrashers.com/factors-health-insurance-premium-costs/\n"
   ]
  },
  {
   "cell_type": "markdown",
   "metadata": {},
   "source": [
    "---\n",
    "\n",
    "## Part 1: Understanding the Dataset\n",
    "\n",
    "Below is the description of the dataset from the Kaggle repository.\n",
    "\n",
    "|Name\t|\tData Type|Description|\n",
    "|\t----\t|\t---------|-----------|\n",
    "|\tAge\t\t|continuous|Age of the patient in years|\n",
    "|\tSex\t\t|nominal\t\t|M, F|\n",
    "|\tBMI\t|\tcontinuous\t|Body mass index of the patient|\n",
    "|\tChildren\t|continuous\t|Number of dependents|\n",
    "|\tSmoker\t|\tnominal\t|Yes/No smoker|\n",
    "|\tRegion|\tnominal\t|The beneficiary's residential area in the US, northeast, southeast, southwest, northwest.|\n",
    "|\tCharges\t|\tinteger\t\t|Medical cost billed by health insurance|"
   ]
  },
  {
   "cell_type": "code",
   "execution_count": 60,
   "metadata": {},
   "outputs": [],
   "source": [
    "#Importing libraries\n",
    "#Loading the csv file\n",
    "import numpy as np\n",
    "import csv\n",
    "\n",
    "f = open(\"D:/Downloads/insurance/insurance.csv\")\n",
    "all_lines = csv.reader(f, delimiter = ',')\n",
    "dataset=[]\n",
    "header = ['age', 'sex', 'bmi', 'children', 'smoker', 'region', 'charges']\n",
    "\n",
    "first = True\n",
    "for line in all_lines:  \n",
    "    # The first line is the header\n",
    "    if first:\n",
    "        header = line\n",
    "        first = False\n",
    "    else:\n",
    "        d = dict(zip(header, line))\n",
    "        d['age'] = int(d['age'])\n",
    "        d['bmi'] = float(d['bmi'])\n",
    "        d['children'] = int(d['children'])\n",
    "        d['charges'] = float(d['charges'])\n",
    "        dataset.append(d)\n",
    "    "
   ]
  },
  {
   "cell_type": "code",
   "execution_count": 61,
   "metadata": {},
   "outputs": [
    {
     "data": {
      "text/plain": [
       "{'age': 19,\n",
       " 'sex': 'female',\n",
       " 'bmi': 27.9,\n",
       " 'children': 0,\n",
       " 'smoker': 'yes',\n",
       " 'region': 'southwest',\n",
       " 'charges': 16884.924}"
      ]
     },
     "execution_count": 61,
     "metadata": {},
     "output_type": "execute_result"
    }
   ],
   "source": [
    "#Checking first row of the dataset\n",
    "dataset[0]"
   ]
  },
  {
   "cell_type": "code",
   "execution_count": 62,
   "metadata": {},
   "outputs": [
    {
     "data": {
      "text/plain": [
       "1338"
      ]
     },
     "execution_count": 62,
     "metadata": {},
     "output_type": "execute_result"
    }
   ],
   "source": [
    "#number of entries in dataset\n",
    "len(dataset)"
   ]
  },
  {
   "cell_type": "markdown",
   "metadata": {},
   "source": [
    "---\n",
    "\n",
    "## Part 2: Simple statistics\n",
    "\n",
    "The goal of the following code is to perform some simple statistics to understand the dataset - such as finding the average - age and BMI of the patients and the max and min age and BMI. Comparing the BMI of patients above and below the average age."
   ]
  },
  {
   "cell_type": "code",
   "execution_count": 63,
   "metadata": {},
   "outputs": [
    {
     "data": {
      "text/plain": [
       "39.20702541106129"
      ]
     },
     "execution_count": 63,
     "metadata": {},
     "output_type": "execute_result"
    }
   ],
   "source": [
    "#average age of patients in dataset\n",
    "avg_age=[]\n",
    "for i in range(len(dataset)):\n",
    "    avg_age.append(dataset[i]['age'])\n",
    "np.mean(np.array(avg_age))"
   ]
  },
  {
   "cell_type": "code",
   "execution_count": 64,
   "metadata": {},
   "outputs": [
    {
     "data": {
      "text/plain": [
       "30.66339686098655"
      ]
     },
     "execution_count": 64,
     "metadata": {},
     "output_type": "execute_result"
    }
   ],
   "source": [
    "#average bmi of patients\n",
    "bmi=[]\n",
    "for i in range(len(dataset)):\n",
    "    bmi.append(dataset[i]['bmi'])\n",
    "np.mean(np.array(bmi))"
   ]
  },
  {
   "cell_type": "code",
   "execution_count": 65,
   "metadata": {},
   "outputs": [
    {
     "data": {
      "text/plain": [
       "53.13"
      ]
     },
     "execution_count": 65,
     "metadata": {},
     "output_type": "execute_result"
    }
   ],
   "source": [
    "#max bmi\n",
    "np.max(np.array(bmi))"
   ]
  },
  {
   "cell_type": "code",
   "execution_count": 66,
   "metadata": {},
   "outputs": [
    {
     "data": {
      "text/plain": [
       "15.96"
      ]
     },
     "execution_count": 66,
     "metadata": {},
     "output_type": "execute_result"
    }
   ],
   "source": [
    "#min bmi\n",
    "np.min(np.array(bmi))"
   ]
  },
  {
   "cell_type": "code",
   "execution_count": 67,
   "metadata": {},
   "outputs": [
    {
     "data": {
      "text/plain": [
       "64"
      ]
     },
     "execution_count": 67,
     "metadata": {},
     "output_type": "execute_result"
    }
   ],
   "source": [
    "#max age\n",
    "np.max(np.array(avg_age))"
   ]
  },
  {
   "cell_type": "code",
   "execution_count": 68,
   "metadata": {},
   "outputs": [
    {
     "data": {
      "text/plain": [
       "18"
      ]
     },
     "execution_count": 68,
     "metadata": {},
     "output_type": "execute_result"
    }
   ],
   "source": [
    "#min age\n",
    "np.min(np.array(avg_age))"
   ]
  },
  {
   "cell_type": "code",
   "execution_count": 69,
   "metadata": {},
   "outputs": [
    {
     "name": "stdout",
     "output_type": "stream",
     "text": [
      "Patients below the age of 39 have an average bmi of  30.074940652818988\n",
      "Patients above the age of 39 have an average bmi of  31.26071536144578\n"
     ]
    }
   ],
   "source": [
    "#compare bmi of patients above average age approx 39 years old\n",
    "bmiSmall = np.mean(np.array([dataset[x]['bmi'] for x in range(len(dataset)) if dataset[x]['age']<=39]))\n",
    "bmiLarge = np.mean(np.array([dataset[x]['bmi'] for x in range(len(dataset)) if dataset[x]['age']>39]))\n",
    "\n",
    "print('Patients below the age of 39 have an average bmi of ',bmiSmall)\n",
    "print('Patients above the age of 39 have an average bmi of ',bmiLarge)\n",
    "\n",
    "#looks like most patients in this dataset are obese (i.e. bmi >30)"
   ]
  },
  {
   "cell_type": "markdown",
   "metadata": {},
   "source": [
    "---\n",
    "\n",
    "## Part 3: Data visualizations\n",
    "\n",
    "In this section of the code the library matplotlib was used to visualize the dataset. Additionally, methods were used to identify the correlation between age and BMI, age and insurance charges/cost, identifying the charge spread between smokers and non-smokers and the average cost difference between male and female patients."
   ]
  },
  {
   "cell_type": "code",
   "execution_count": 70,
   "metadata": {},
   "outputs": [],
   "source": [
    "import matplotlib.pyplot as plt\n",
    "from matplotlib import colors\n",
    "import numpy\n",
    "from collections import defaultdict"
   ]
  },
  {
   "cell_type": "markdown",
   "metadata": {},
   "source": [
    "#### Correlations\n",
    "Correlation means association - more precisely it is a measure of the extent to which two variables are related. There are three possible results of a correlational study: a positive correlation, a negative correlation, and no correlation.\n",
    "\n",
    "A positive correlation is a relationship between two variables in which both variables either increase or decease at the same time. An example would be height and weight. Taller people tend to be heavier.\n",
    "A negative correlation is a relationship between two variables in which an increase in one variable is associated with a decrease in the other. An example would be height above sea level and temperature. As you climb the mountain (increase in height) it gets colder (decrease in temperature).\n",
    "A zero correlation exists when there is no relationship between two variables. For example their is no relationship between the amount of tea drunk and level of intelligence.\n",
    "\n",
    "Source: https://www.simplypsychology.org/correlation.html"
   ]
  },
  {
   "cell_type": "code",
   "execution_count": 71,
   "metadata": {},
   "outputs": [
    {
     "data": {
      "text/plain": [
       "array([[1.        , 0.10927188],\n",
       "       [0.10927188, 1.        ]])"
      ]
     },
     "execution_count": 71,
     "metadata": {},
     "output_type": "execute_result"
    }
   ],
   "source": [
    "np.corrcoef(bmi,avg_age) #bmi and age arent correlated with a value of 0.1"
   ]
  },
  {
   "cell_type": "code",
   "execution_count": 72,
   "metadata": {},
   "outputs": [],
   "source": [
    "#charges of patients in dataset\n",
    "charges=[]\n",
    "for i in range(len(dataset)):\n",
    "    charges.append(dataset[i]['charges'])"
   ]
  },
  {
   "cell_type": "markdown",
   "metadata": {},
   "source": [
    "#### Scatterplot displaying Age vs Insurance Charge"
   ]
  },
  {
   "cell_type": "code",
   "execution_count": 73,
   "metadata": {},
   "outputs": [
    {
     "data": {
      "text/plain": [
       "<matplotlib.collections.PathCollection at 0x1818e90>"
      ]
     },
     "execution_count": 73,
     "metadata": {},
     "output_type": "execute_result"
    },
    {
     "data": {
      "image/png": "[encoded data removed]",
      "text/plain": [
       "<Figure size 432x288 with 1 Axes>"
      ]
     },
     "metadata": {
      "needs_background": "light"
     },
     "output_type": "display_data"
    }
   ],
   "source": [
    "#Visualizing BMI vs Age\n",
    "plt.gca().set(xlabel='Age', ylabel='Charges',\n",
    "       title='Age vs Charges scatterplot')\n",
    "plt.grid()\n",
    "plt.scatter(avg_age, charges)"
   ]
  },
  {
   "cell_type": "code",
   "execution_count": 74,
   "metadata": {},
   "outputs": [
    {
     "data": {
      "text/plain": [
       "array([[1.        , 0.29900819],\n",
       "       [0.29900819, 1.        ]])"
      ]
     },
     "execution_count": 74,
     "metadata": {},
     "output_type": "execute_result"
    }
   ],
   "source": [
    "np.corrcoef(avg_age,charges) #positive correlation between age and charge... expected since insurance charge increases with age."
   ]
  },
  {
   "cell_type": "markdown",
   "metadata": {},
   "source": [
    "#### Box plot of Insurance Charge spread of Smoker vs Non-smoker "
   ]
  },
  {
   "cell_type": "code",
   "execution_count": 75,
   "metadata": {},
   "outputs": [
    {
     "data": {
      "text/plain": [
       "([<matplotlib.axis.XTick at 0x18469b0>, <matplotlib.axis.XTick at 0x18465b0>],\n",
       " <a list of 2 Text xticklabel objects>)"
      ]
     },
     "execution_count": 75,
     "metadata": {},
     "output_type": "execute_result"
    },
    {
     "data": {
      "image/png": "[encoded data removed]",
      "text/plain": [
       "<Figure size 432x288 with 1 Axes>"
      ]
     },
     "metadata": {
      "needs_background": "light"
     },
     "output_type": "display_data"
    }
   ],
   "source": [
    "#smoker vs charge\n",
    "S_charges = [dataset[x]['charges'] for x in range(len(dataset)) if dataset[x]['smoker']=='yes']\n",
    "S_charges.sort()\n",
    "NS_charges = [dataset[x]['charges'] for x in range(len(dataset)) if dataset[x]['smoker']=='no']\n",
    "NS_charges.sort()\n",
    "\n",
    "plt.ylabel('Insurance Charge')\n",
    "plt.title('Box plot of Insurance charge of Smoker vs Non-smoker')\n",
    "\n",
    "plt.boxplot([S_charges,NS_charges])\n",
    "plt.xticks([1, 2], ['Smoker', 'Non-smoker'])"
   ]
  },
  {
   "cell_type": "markdown",
   "metadata": {},
   "source": [
    "#### Bar chart of Average charge - Male vs Female"
   ]
  },
  {
   "cell_type": "code",
   "execution_count": 76,
   "metadata": {},
   "outputs": [
    {
     "data": {
      "image/png": "[encoded data removed]",
      "text/plain": [
       "<Figure size 432x288 with 1 Axes>"
      ]
     },
     "metadata": {
      "needs_background": "light"
     },
     "output_type": "display_data"
    }
   ],
   "source": [
    "MCharge = sum([d['charges'] for d in dataset if d['sex'] == 'male'])/len([d for d in dataset if d['sex']=='male'])\n",
    "FCharge = sum([d['charges'] for d in dataset if d['sex'] == 'female'])/len([d for d in dataset if d['sex']=='female'])\n",
    "index = [1]\n",
    "objects = ('Male', 'Female')\n",
    "y_pos = np.arange(len(objects))\n",
    "charge_data=[]\n",
    "charge_data.append(MCharge)\n",
    "charge_data.append(FCharge)\n",
    "\n",
    "plt.bar(y_pos, bmi_data, align='center', alpha=0.5)\n",
    "plt.xticks(y_pos, objects)\n",
    "plt.ylabel('Average Charge')\n",
    "plt.title('Average Charge of Male vs Female')\n",
    "\n",
    "plt.show()"
   ]
  },
  {
   "cell_type": "code",
   "execution_count": 77,
   "metadata": {},
   "outputs": [
    {
     "data": {
      "text/plain": [
       "[13956.751177721886, 12569.57884383534]"
      ]
     },
     "execution_count": 77,
     "metadata": {},
     "output_type": "execute_result"
    }
   ],
   "source": [
    "charge_data"
   ]
  }
 ],
 "metadata": {
  "kernelspec": {
   "display_name": "Python 3",
   "language": "python",
   "name": "python3"
  },
  "language_info": {
   "codemirror_mode": {
    "name": "ipython",
    "version": 3
   },
   "file_extension": ".py",
   "mimetype": "text/x-python",
   "name": "python",
   "nbconvert_exporter": "python",
   "pygments_lexer": "ipython3",
   "version": "3.7.0"
  }
 },
 "nbformat": 4,
 "nbformat_minor": 2
}
