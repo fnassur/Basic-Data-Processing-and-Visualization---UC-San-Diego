{
 "cells": [
  {
   "cell_type": "markdown",
   "metadata": {},
   "source": [
    "# Week 4: Mini Project\n",
    "\n",
    "This notebook will guide you through smaller portions of your final project. For this notebook, we will be using the Abalone dataset from the [UCI Machine Learning Repository](https://archive.ics.uci.edu/ml/datasets/Abalone) (originating from the Marine Research Laboratories – Taroona). This dataset should already be in your folder (under `abalone.csv`) or you can download it at the above link. \n",
    "\n",
    "![Abalone](./abalone.jpg)\n",
    "\n",
    "### A Brief History of Abalones\n",
    "\n",
    "An abalone is a sea snail belonging to one of a range of 30 to 130 species (depending on which scientist you ask). It is commonly prized for its mother-of-pearl shell, pearls, and delicious flesh by a variety of cultures and has long been a valuable source of food in its native environments. Sadly, wild populations of abalone have been overfished and poached to the point where commercial farming supplies most of abalone flesh nowadays. It now sits on the list of current animals threatened by extinction.\n",
    "\n",
    "Source: https://en.wikipedia.org/wiki/Abalone"
   ]
  },
  {
   "cell_type": "markdown",
   "metadata": {},
   "source": [
    "---\n",
    "\n",
    "## Part 1: Familiarize Yourself With the Dataset\n",
    "\n",
    "The purpose of this dataset is to predict the age of an abalone through physical characteristics, determined by cutting the shell through the cone, staining it, and counting the number of rings through a microscope -- a boring and time-consuming task. Good thing it's already been done for us!\n",
    "\n",
    "Below is the dataset description from the UCI Machine Learning Repository. \n",
    "\n",
    "|Name\t|\tData Type|\tMeasure\t|Description|\n",
    "|\t----\t|\t---------|\t-----\t|-----------|\n",
    "|\tSex\t\t|nominal\t\t|\t|M, F, and I (infant)|\n",
    "|\tLength\t|\tcontinuous\t|mm|\tLongest shell measurement|\n",
    "|\tDiameter\t|continuous|\tmm\t|perpendicular to length|\n",
    "|\tHeight\t|\tcontinuous\t|mm\t|with meat in shell|\n",
    "|\tWhole weight|\tcontinuous\t|grams\t|whole abalone|\n",
    "|\tShucked weight\t|continuous|\tgrams\t|weight of meat|\n",
    "|\tViscera weight\t|continuous|\tgrams\t|gut weight (after bleeding)|\n",
    "|\tShell weight\t|continuous|\tgrams\t|after being dried|\n",
    "|\tRings\t|\tinteger\t\t|\t|+1.5 gives the age in years|\n",
    "\n",
    "Run the cells below to examine the dataset. "
   ]
  },
  {
   "cell_type": "code",
   "execution_count": 1,
   "metadata": {},
   "outputs": [],
   "source": [
    "# Load Abalone dataset\n",
    "# Remember to change the file location if needed\n",
    "import csv\n",
    "f = open(\"D:/Downloads/BDPV---Mini-Project/BDPV - Mini Project/abalone.csv\")\n",
    "all_lines = csv.reader(f, delimiter = ',')\n",
    "\n",
    "# We define a header ourselves since the dataset contains only the raw numbers.\n",
    "dataset = []\n",
    "header = ['Sex', 'Length', 'Diameter', 'Height', 'Whole Weight', 'Shucked Weight', 'Viscera Weight', \n",
    "          'Shell Weight', 'Rings']\n",
    "for line in all_lines:\n",
    "    d = dict(zip(header, line))\n",
    "    d['Length'] = float(d['Length'])\n",
    "    d['Diameter'] = float(d['Diameter'])\n",
    "    d['Height'] = float(d['Height'])\n",
    "    d['Whole Weight'] = float(d['Whole Weight'])\n",
    "    d['Shucked Weight'] = float(d['Shucked Weight'])\n",
    "    d['Viscera Weight'] = float(d['Viscera Weight'])\n",
    "    d['Shell Weight'] = float(d['Shell Weight'])\n",
    "    d['Rings'] = int(d['Rings'])\n",
    "    dataset.append(d)"
   ]
  },
  {
   "cell_type": "code",
   "execution_count": 2,
   "metadata": {},
   "outputs": [
    {
     "data": {
      "text/plain": [
       "{'Sex': 'M',\n",
       " 'Length': 0.455,\n",
       " 'Diameter': 0.365,\n",
       " 'Height': 0.095,\n",
       " 'Whole Weight': 0.514,\n",
       " 'Shucked Weight': 0.2245,\n",
       " 'Viscera Weight': 0.101,\n",
       " 'Shell Weight': 0.15,\n",
       " 'Rings': 15}"
      ]
     },
     "execution_count": 2,
     "metadata": {},
     "output_type": "execute_result"
    }
   ],
   "source": [
    "# See first line of dataset\n",
    "dataset[0]"
   ]
  },
  {
   "cell_type": "markdown",
   "metadata": {},
   "source": [
    "---\n",
    "\n",
    "## Part 2: Simple Statistics\n",
    "\n",
    "This dataset is already cleaned for us and relatively straightforward, without strings or time data. In your final project, you will have to take care of missing or tricky values yourself. \n",
    "\n",
    "Fill in the following cells with the requested information about the dataset. The answers are given so you can check the output of your own code. For floating numbers, don't worry too much about the exact numbers as long as they are quite close -- different systems may have different rounding protocols. \n",
    "\n",
    "Feel free to `import numpy` if you want more practice with it, or just use Python's native structures to play around with the numbers."
   ]
  },
  {
   "cell_type": "code",
   "execution_count": 3,
   "metadata": {},
   "outputs": [],
   "source": [
    "import numpy as np"
   ]
  },
  {
   "cell_type": "code",
   "execution_count": 4,
   "metadata": {},
   "outputs": [
    {
     "data": {
      "text/plain": [
       "4177"
      ]
     },
     "execution_count": 4,
     "metadata": {},
     "output_type": "execute_result"
    }
   ],
   "source": [
    "# Q: What is the total number of entries in the dataset?\n",
    "# A: 4177\n",
    "len(dataset)"
   ]
  },
  {
   "cell_type": "code",
   "execution_count": 13,
   "metadata": {},
   "outputs": [
    {
     "data": {
      "text/plain": [
       "0.5239920995930094"
      ]
     },
     "execution_count": 13,
     "metadata": {},
     "output_type": "execute_result"
    }
   ],
   "source": [
    "# Q: What is the average length of an abalone?\n",
    "# A: 0.5239920995930099 or 0.524\n",
    "length_data = []\n",
    "for i in range(len(dataset)):\n",
    "    length_data.append(dataset[i]['Length'])\n",
    "np.mean(np.array(length_data))"
   ]
  },
  {
   "cell_type": "code",
   "execution_count": 16,
   "metadata": {},
   "outputs": [
    {
     "data": {
      "text/plain": [
       "0.65"
      ]
     },
     "execution_count": 16,
     "metadata": {},
     "output_type": "execute_result"
    }
   ],
   "source": [
    "# Q: What is the widest abalone in the dataset (diameter)?\n",
    "# A: 0.65\n",
    "aba_dia = [dataset[x]['Diameter'] for x in range(len(dataset))]\n",
    "np.max(np.array(aba_dia))"
   ]
  },
  {
   "cell_type": "code",
   "execution_count": 21,
   "metadata": {},
   "outputs": [
    {
     "name": "stdout",
     "output_type": "stream",
     "text": [
      "Small Abalones have on average 8.315645514223196 rings.\n",
      "Large Abalones have on average 11.192848020434228 rings.\n"
     ]
    }
   ],
   "source": [
    "# Q: What is the average number of rings of smaller abalones compared to that of larger abalones? That \n",
    "#    is, do smaller abalones tend to be younger or older than larger abalones? \n",
    "#    We will count small abalones as abalones with lengths less than or equal to the average length of \n",
    "#    an abalone. The average length of an abalone is 0.524. \n",
    "# A: Small Abalones have on average 8.315645514223196 rings.\n",
    "#    Large Abalones have on average 11.192848020434228 rings.\n",
    "ageSmall = np.mean(np.array([dataset[x]['Rings'] for x in range(len(dataset)) if dataset[x]['Length']<=0.524]))\n",
    "ageLarge = np.mean(np.array([dataset[x]['Rings'] for x in range(len(dataset)) if dataset[x]['Length']>0.524]))\n",
    "# Change variable name if necessary\n",
    "print('Small Abalones have on average', ageSmall, 'rings.')\n",
    "print('Large Abalones have on average', ageLarge, 'rings.')"
   ]
  },
  {
   "cell_type": "markdown",
   "metadata": {},
   "source": [
    "---\n",
    "\n",
    "## Part 3: Data Visualizations\n",
    "\n",
    "In this course, we learned about [Matplotlib](https://matplotlib.org), a \"Python 2D plotting library which produces publication quality figures in a variety of hardcopy formats and interactive environments across platforms\". There are a [variety of plots and figures](https://matplotlib.org/gallery/index.html) we can make with Matplotlib, and in conjunction with NumPy, becomes a powerful and versatile tool in your skillset.\n",
    "\n",
    "In lectures, we covered the basics of line plots, histograms, scatter plots, bar plots, and box plots. Let's try out a few below. "
   ]
  },
  {
   "cell_type": "code",
   "execution_count": 22,
   "metadata": {},
   "outputs": [],
   "source": [
    "import matplotlib.pyplot as plt\n",
    "from matplotlib import colors\n",
    "import numpy\n",
    "from collections import defaultdict"
   ]
  },
  {
   "cell_type": "markdown",
   "metadata": {},
   "source": [
    "### Line Plots\n",
    "\n",
    "Line plots show the change in data over time. The example Line Plot below plots the change in density as abalones age (i.e. the distribution of rings). **Note that a line plot is not necessarily the best way to show this data since it doesn't deal with a trend!** Use a histogram (next step) to better showcase this data."
   ]
  },
  {
   "cell_type": "code",
   "execution_count": 23,
   "metadata": {},
   "outputs": [
    {
     "data": {
      "text/plain": [
       "[<matplotlib.lines.Line2D at 0x6c6af90>]"
      ]
     },
     "execution_count": 23,
     "metadata": {},
     "output_type": "execute_result"
    },
    {
     "data": {
      "image/png": "[encoded data removed]",
      "text/plain": [
       "<Figure size 432x288 with 1 Axes>"
      ]
     },
     "metadata": {
      "needs_background": "light"
     },
     "output_type": "display_data"
    }
   ],
   "source": [
    "# Parse out Rings column from dataset\n",
    "rings = [d['Rings'] for d in dataset]\n",
    "rings.sort()\n",
    "\n",
    "# Count number of abalones with each number of rings with defaultdict\n",
    "abalone_rings = defaultdict(int)\n",
    "for r in rings:\n",
    "    abalone_rings[r] += 1\n",
    "X = list(abalone_rings.keys())\n",
    "Y = list(abalone_rings.values())\n",
    "\n",
    "# Customize plot\n",
    "plt.gca().set(xlabel='Rings', ylabel='Number of Abalones',\n",
    "       title='Abalone Age Distribution')\n",
    "plt.grid()\n",
    "\n",
    "# Show the plot of Rings vs Number of Abalones\n",
    "plt.plot(X, Y)"
   ]
  },
  {
   "cell_type": "markdown",
   "metadata": {},
   "source": [
    "### Histograms\n",
    "\n",
    "Histograms show the distribution of numeric continuous variables with central tendency and skewness. **Using the line plot data from above, plot a histogram showing the distribution of abalone age.** Feel free to explore [matplotlib](https://matplotlib.org/gallery/index.html) on your own to customize your histogram and the following visualizations."
   ]
  },
  {
   "cell_type": "code",
   "execution_count": 25,
   "metadata": {},
   "outputs": [
    {
     "name": "stdout",
     "output_type": "stream",
     "text": [
      "[1, 2, 3, 3, 3, 3, 3, 3, 3, 3]\n"
     ]
    },
    {
     "data": {
      "text/plain": [
       "(array([  17.,  431., 1648., 1388.,  329.,  228.,  100.,   29.,    4.,\n",
       "           3.]),\n",
       " array([ 1. ,  3.8,  6.6,  9.4, 12.2, 15. , 17.8, 20.6, 23.4, 26.2, 29. ]),\n",
       " <a list of 10 Patch objects>)"
      ]
     },
     "execution_count": 25,
     "metadata": {},
     "output_type": "execute_result"
    },
    {
     "data": {
      "image/png": "[encoded data removed]",
      "text/plain": [
       "<Figure size 432x288 with 1 Axes>"
      ]
     },
     "metadata": {
      "needs_background": "light"
     },
     "output_type": "display_data"
    }
   ],
   "source": [
    "# Complete this cell with a histogram of abalone age distribution\n",
    "\n",
    "# Flatten distribution list into frequency distribution\n",
    "age_freq = []\n",
    "for key in abalone_rings.keys():\n",
    "    for i in range(0, abalone_rings.get(key)):\n",
    "        age_freq.append(key)\n",
    "print(age_freq[:10])\n",
    "\n",
    "# Plot your histogram here\n",
    "plt.hist(age_freq)"
   ]
  },
  {
   "cell_type": "markdown",
   "metadata": {},
   "source": [
    "### Scatter Plots\n",
    "\n",
    "Scatter plots show the strength of a relationship between two variables (also known as correlations). From *Part 2: Simple Statistics*, we see that larger abalones tend to be larger, at least from a numbers perspective. **Let's see if this is actually true by creating a scatter plot showing the relationship between `Rings` and `Length`.** \n",
    "\n",
    "*On Your Own:* Read up on `sciPy` and how you can calculate and graph the correlation as well."
   ]
  },
  {
   "cell_type": "code",
   "execution_count": 27,
   "metadata": {},
   "outputs": [
    {
     "data": {
      "text/plain": [
       "<matplotlib.collections.PathCollection at 0x1404d90>"
      ]
     },
     "execution_count": 27,
     "metadata": {},
     "output_type": "execute_result"
    },
    {
     "data": {
      "image/png": "[encoded data removed]",
      "text/plain": [
       "<Figure size 432x288 with 1 Axes>"
      ]
     },
     "metadata": {
      "needs_background": "light"
     },
     "output_type": "display_data"
    }
   ],
   "source": [
    "# Complete this cell with a scatter plot of age vs length\n",
    "rings = [d['Rings'] for d in dataset]\n",
    "length = [d['Length'] for d in dataset]\n",
    "\n",
    "plt.scatter(rings,length)"
   ]
  },
  {
   "cell_type": "markdown",
   "metadata": {},
   "source": [
    "### Bar Plots\n",
    "\n",
    "Bar plots are great for comparing categorical variables. There are a few subtypes of bar plots, such as the grouped bar chart or stacked bar chart. Since we have the `Sex` field to play with, we can compare data across `M` and `F` abalones. Below is a simple stacked bar chart comparing the `Sex` category with the `Shucked Weight` data. **Create a bar chart of your choice of data.** \n",
    "\n",
    "You may refer to the cell below to parse out fields by sex."
   ]
  },
  {
   "cell_type": "code",
   "execution_count": 37,
   "metadata": {},
   "outputs": [
    {
     "data": {
      "image/png": "[encoded data removed]",
      "text/plain": [
       "<Figure size 432x288 with 1 Axes>"
      ]
     },
     "metadata": {
      "needs_background": "light"
     },
     "output_type": "display_data"
    }
   ],
   "source": [
    "# Example Stacked Bar Chart - Comparisons Between Sexes\n",
    "Mweight = sum([d['Shucked Weight'] for d in dataset if d['Sex'] is 'M'])\n",
    "Fweight = sum([d['Shucked Weight'] for d in dataset if d['Sex'] is 'F'])\n",
    "index = [1]\n",
    "\n",
    "p1 = plt.bar(index, Mweight, color='lightblue')\n",
    "p2 = plt.bar(index, Fweight, bottom=Mweight, color='pink')\n",
    "plt.gca().set(title='Abalone Shucked Weight by Sex', ylabel='Total Shucked Weight (g)');\n",
    "plt.xticks([])\n",
    "\n",
    "plt.legend((p1[0], p2[0]), ('Male', 'Female'))\n",
    "plt.show()"
   ]
  },
  {
   "cell_type": "code",
   "execution_count": 30,
   "metadata": {},
   "outputs": [
    {
     "data": {
      "image/png": "[encoded data removed]",
      "text/plain": [
       "<Figure size 432x288 with 1 Axes>"
      ]
     },
     "metadata": {
      "needs_background": "light"
     },
     "output_type": "display_data"
    }
   ],
   "source": [
    "# Complete this cell with your choice of data\n",
    "Mweight = sum([d['Shell Weight'] for d in dataset if d['Sex'] is 'M'])\n",
    "Fweight = sum([d['Shell Weight'] for d in dataset if d['Sex'] is 'F'])\n",
    "index = [1]\n",
    "\n",
    "p1 = plt.bar(index, Mweight, color='lightblue')\n",
    "p2 = plt.bar(index, Fweight, bottom=Mweight, color='pink')\n",
    "plt.gca().set(title='Abalone Shell Weight by Sex', ylabel='Total Shell Weight (g)');\n",
    "plt.xticks([])\n",
    "\n",
    "plt.legend((p1[0], p2[0]), ('Male', 'Female'))\n",
    "plt.show()"
   ]
  },
  {
   "cell_type": "markdown",
   "metadata": {},
   "source": [
    "### Box Plots\n",
    "\n",
    "Box plots are useful for comparing distributions of data and are commonly found in research papers. The box portion of a box plot represents 50% of the data, and there are versions where you can mark outliers and other extremes. We have the distribution of rings already from the line plot example under the variable name `age_freq`, assuming you haven't modified it. **Find the distribution of another field of your choice and create one or more box plots with both of these fields.**\n",
    "\n",
    "*Hint: You can plot multiple box plots with the command `plt.boxplot([plot1, plot2, ..., plotn])` or use `subplots()` to draw multiple separate plots at the same time. See [this matplotlib example](https://matplotlib.org/gallery/statistics/boxplot_demo.html#sphx-glr-gallery-statistics-boxplot-demo-py) for more.*"
   ]
  },
  {
   "cell_type": "code",
   "execution_count": 36,
   "metadata": {},
   "outputs": [
    {
     "data": {
      "text/plain": [
       "{'whiskers': [<matplotlib.lines.Line2D at 0x4fa7e10>,\n",
       "  <matplotlib.lines.Line2D at 0x4fa7ed0>,\n",
       "  <matplotlib.lines.Line2D at 0x4fadf90>,\n",
       "  <matplotlib.lines.Line2D at 0x4fad7f0>],\n",
       " 'caps': [<matplotlib.lines.Line2D at 0x4fad2f0>,\n",
       "  <matplotlib.lines.Line2D at 0x4fad570>,\n",
       "  <matplotlib.lines.Line2D at 0x4fb7490>,\n",
       "  <matplotlib.lines.Line2D at 0x4fb7710>],\n",
       " 'boxes': [<matplotlib.lines.Line2D at 0x4fa7b30>,\n",
       "  <matplotlib.lines.Line2D at 0x4fadd10>],\n",
       " 'medians': [<matplotlib.lines.Line2D at 0x4fad850>,\n",
       "  <matplotlib.lines.Line2D at 0x4fb7990>],\n",
       " 'fliers': [<matplotlib.lines.Line2D at 0x4fada90>,\n",
       "  <matplotlib.lines.Line2D at 0x4fb7c10>],\n",
       " 'means': []}"
      ]
     },
     "execution_count": 36,
     "metadata": {},
     "output_type": "execute_result"
    },
    {
     "data": {
      "image/png": "[encoded data removed]",
      "text/plain": [
       "<Figure size 432x288 with 1 Axes>"
      ]
     },
     "metadata": {
      "needs_background": "light"
     },
     "output_type": "display_data"
    }
   ],
   "source": [
    "# Complete this cell with multiple box plots\n",
    "shell_w = [d['Shell Weight'] for d in dataset]\n",
    "shell_w.sort()\n",
    "shuck_w = [d['Shucked Weight'] for d in dataset]\n",
    "shuck_w.sort()\n",
    "\n",
    "\n",
    "plt.boxplot([shell_w,shuck_w])"
   ]
  },
  {
   "cell_type": "markdown",
   "metadata": {},
   "source": [
    "### Free Response (optional)\n",
    "\n",
    "Experiment and create visualizations of your own here."
   ]
  },
  {
   "cell_type": "code",
   "execution_count": null,
   "metadata": {},
   "outputs": [],
   "source": [
    "# Description of visualization\n"
   ]
  },
  {
   "cell_type": "markdown",
   "metadata": {},
   "source": [
    "---\n",
    "\n",
    "## Part 4: Web Scraping (Optional)\n",
    "\n",
    "**BeautifulSoup Documentation:** https://www.crummy.com/software/BeautifulSoup/bs4/doc/\n",
    "\n",
    "This part of the notebook is not graded, but still contains some valuable tips for web-scraping! You were introduced to a method of creating your own dataset by parsing a webpage in lecture videos and this week's notebook. Here is another way to parse a webpage with BeautifulSoup. We will be using a short story from Project Gutenberg [(*Little Boy*](http://www.gutenberg.org/files/58743/58743-h/58743-h.htm)  by Harry Neal, 1954) as an example.\n",
    "\n",
    "*On Your Own:* Read this page on webscraping and try out a project! https://automatetheboringstuff.com/chapter11/"
   ]
  },
  {
   "cell_type": "markdown",
   "metadata": {},
   "source": [
    "### Introduction to Beautiful Soup\n",
    "\n",
    "Below are a few useful commands we will be using throughout the next section as we parse a webpage."
   ]
  },
  {
   "cell_type": "code",
   "execution_count": null,
   "metadata": {},
   "outputs": [],
   "source": [
    "from urllib.request import urlopen\n",
    "from bs4 import BeautifulSoup"
   ]
  },
  {
   "cell_type": "code",
   "execution_count": null,
   "metadata": {},
   "outputs": [],
   "source": [
    "# Open and extract HTML from the webpage\n",
    "f = urlopen(\"http://www.gutenberg.org/files/58743/58743-h/58743-h.htm\")\n",
    "html = str(f.read())\n",
    "\n",
    "# First 100 characters of the HTML we grabbed\n",
    "html[:100]"
   ]
  },
  {
   "cell_type": "code",
   "execution_count": null,
   "metadata": {},
   "outputs": [],
   "source": [
    "# Convert our HTML object to a BeautifulSoup object and make it readable\n",
    "soup = BeautifulSoup(html, 'html.parser')\n",
    "print(soup.prettify())"
   ]
  },
  {
   "cell_type": "markdown",
   "metadata": {},
   "source": [
    "With a BeautifulSoup object, we can easily search through HTML and create lists and other structures."
   ]
  },
  {
   "cell_type": "code",
   "execution_count": null,
   "metadata": {},
   "outputs": [],
   "source": [
    "# Number of paragraph tags\n",
    "len(soup.find_all('p'))"
   ]
  },
  {
   "cell_type": "code",
   "execution_count": null,
   "metadata": {},
   "outputs": [],
   "source": [
    "# Create list of all paragraphs\n",
    "paragraph_list = soup.find_all('p')\n",
    "paragraph_list[100]"
   ]
  },
  {
   "cell_type": "markdown",
   "metadata": {},
   "source": [
    "We can also extract all the text from a page and use it to create a bag of words or other measures."
   ]
  },
  {
   "cell_type": "code",
   "execution_count": null,
   "metadata": {},
   "outputs": [],
   "source": [
    "# Extract all text from page\n",
    "text = soup.get_text()\n",
    "text[:100]"
   ]
  },
  {
   "cell_type": "code",
   "execution_count": null,
   "metadata": {},
   "outputs": [],
   "source": [
    "import string\n",
    "from collections import defaultdict\n",
    "\n",
    "letters = defaultdict(int)\n",
    "punctuation = set(string.punctuation)\n",
    "\n",
    "for char in text:\n",
    "    if char not in punctuation:\n",
    "        letters[char] += 1\n",
    "    \n",
    "letters.items()"
   ]
  },
  {
   "cell_type": "markdown",
   "metadata": {},
   "source": [
    "### Creating Our Own Dataset\n",
    "\n",
    "![Cooking](./chef.jpg)\n",
    "\n",
    "In previous lectures and notebooks, we wrote our own parser method to extract parts of the text. Here is a trivial example of how you can do the same with BeautifulSoup using a list of [Top 10 Chefs by Gazette Review](https://gazettereview.com/2017/04/top-10-chefs/). "
   ]
  },
  {
   "cell_type": "code",
   "execution_count": null,
   "metadata": {},
   "outputs": [],
   "source": [
    "# Open and extract HTML from the webpage\n",
    "f = urlopen(\"https://gazettereview.com/2017/04/top-10-chefs/\")\n",
    "html = str(f.read())\n",
    "soup = BeautifulSoup(html, 'html.parser')\n",
    "print(soup.prettify())"
   ]
  },
  {
   "cell_type": "markdown",
   "metadata": {},
   "source": [
    "Note that all the names of the chefs are between `<h2>` and `</h2>` tags and the descriptions are between `<p>` and `</p>` tags. We can get the names of the chefs quite easily, as seen below."
   ]
  },
  {
   "cell_type": "code",
   "execution_count": null,
   "metadata": {},
   "outputs": [],
   "source": [
    "# List of chef names\n",
    "# Note that find_all() returns a bs4 object, rather than a Python list.\n",
    "# The HTML tags are also part of the object.\n",
    "chefs = soup.find_all('h2')\n",
    "print(type(chefs))\n",
    "print(chefs[0])"
   ]
  },
  {
   "cell_type": "code",
   "execution_count": null,
   "metadata": {},
   "outputs": [],
   "source": [
    "# Clean and strip spaces and numbers from the bs4 element and turn it into a Python list\n",
    "import string\n",
    "letters = set(string.ascii_letters)\n",
    "chef_name = []\n",
    "\n",
    "# Grab relevant letters/spaces and remove extra HTML tags and spaces\n",
    "for chef in chefs:\n",
    "    chef = [letter for letter in str(chef) if letter in letters or letter is ' ']\n",
    "    chef = ''.join(chef[2:len(chef) - 1])\n",
    "    chef_name.append(chef)\n",
    "\n",
    "chef_name"
   ]
  },
  {
   "cell_type": "markdown",
   "metadata": {},
   "source": [
    "Getting the list of chef names is trivial with the `find_all()` function (and a little Python cleaning), but what about the descriptions? This is a little trickier since there may be overlapping uses for the `<p>` and `</p>` tags, so let's try [navigating the BeautifulSoup tree](https://www.crummy.com/software/BeautifulSoup/bs4/doc/#navigating-the-tree).\n",
    "\n",
    "This website is simple in that every chef has a two-paragraph description in the same format. We can use this to our advantage once we know what to look for. Let's say we want to extract just the text from these two paragraphs. How can we do so? With the `.contents` attribute, we can access the children of each tag."
   ]
  },
  {
   "cell_type": "code",
   "execution_count": null,
   "metadata": {},
   "outputs": [],
   "source": [
    "descriptions = soup.find_all('p')\n",
    "del descriptions[-12:]\n",
    "del descriptions[0]\n",
    "print(\"The number of paragraphs is:\", len(descriptions))\n",
    "descriptions[:2]"
   ]
  },
  {
   "cell_type": "code",
   "execution_count": null,
   "metadata": {},
   "outputs": [],
   "source": [
    "# Set up the loop\n",
    "i = 0\n",
    "chef_description = [''] * 10\n",
    "chef_image = []\n",
    "\n",
    "# Grab description text from paragraphs\n",
    "for d in descriptions:\n",
    "    curr_desc = []\n",
    "    if i % 2 == 0:\n",
    "        curr_desc = d.contents[2]\n",
    "        chef_image.append(d.contents[0]['src']) # Get images as well\n",
    "    else:\n",
    "        curr_desc = d.contents[0]\n",
    "    # Append relevant parts to corresponding index\n",
    "    chef_description[int(i / 2)] = chef_description[int(i / 2)] + ' ' + curr_desc\n",
    "    i += 1\n",
    "\n",
    "# Voila! We have combined 2 paragraphs into 1.\n",
    "chef_description[0]"
   ]
  },
  {
   "cell_type": "markdown",
   "metadata": {},
   "source": [
    "We now have lists with the names, descriptions, and images of the chefs! You can arrange this however you want; `chef_data` below is arranged like a JSON object but you can modify this section to make the data look more like a traditional dataset."
   ]
  },
  {
   "cell_type": "code",
   "execution_count": null,
   "metadata": {},
   "outputs": [],
   "source": [
    "chef_data = {}\n",
    "\n",
    "chef_data['Name'] = chef_name\n",
    "chef_data['Description'] = chef_description\n",
    "chef_data['Image'] = chef_image\n",
    "\n",
    "chef_data['Description'][0]"
   ]
  },
  {
   "cell_type": "markdown",
   "metadata": {},
   "source": [
    "### (Optional) Your Turn: Web-Scraping\n",
    "\n",
    "Now that you've run through this section of the notebook, feel free to experiment with web-scraping on your own. Choose a site and get some raw data out of it!\n",
    "\n",
    "*Note: If you run into a `HTTP error 403 (Forbidden)`, this means that the site probably blocks web-scraping scripts. You can get around this by modifying the way you request the URL (see [StackOverflow](https://stackoverflow.com/questions/28396036/python-3-4-urllib-request-error-http-403) for some useful tips) or try another site.*"
   ]
  },
  {
   "cell_type": "code",
   "execution_count": null,
   "metadata": {},
   "outputs": [],
   "source": [
    "# Start parsing here"
   ]
  },
  {
   "cell_type": "markdown",
   "metadata": {},
   "source": [
    "## All Done!\n",
    "\n",
    "In this notebook, we covered loading a dataset, simple statistics, basic data visualizations, and web-scraping to round out your toolset. These will be immensely helpful as you move forwards in building your skills in data science.\n",
    "\n",
    "By now, you hopefully feel a little more confident with tackling your final project. It is up to you to find your own data, build your own notebook, and show others what you have achieved. Best of luck!"
   ]
  },
  {
   "cell_type": "code",
   "execution_count": null,
   "metadata": {},
   "outputs": [],
   "source": []
  }
 ],
 "metadata": {
  "kernelspec": {
   "display_name": "Python 3",
   "language": "python",
   "name": "python3"
  },
  "language_info": {
   "codemirror_mode": {
    "name": "ipython",
    "version": 3
   },
   "file_extension": ".py",
   "mimetype": "text/x-python",
   "name": "python",
   "nbconvert_exporter": "python",
   "pygments_lexer": "ipython3",
   "version": "3.7.0"
  }
 },
 "nbformat": 4,
 "nbformat_minor": 2
}
